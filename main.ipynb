{
 "cells": [
  {
   "cell_type": "markdown",
   "metadata": {},
   "source": [
    "# Functions"
   ]
  },
  {
   "cell_type": "markdown",
   "metadata": {},
   "source": [
    "On this lab we will put to practice some of the concepts we have learned on this past few days.\n",
    "\n",
    "`NOTE: On this lab you should try to write all the functions yourself using only the most basic of python syntax and without functions such as len, count, sum, max, min, in, etc. Give it a try. 🧑🏻‍💻👩🏻‍💻`\n",
    "\n",
    "The cell after each exercise contains a few tests to check if your function works as expected."
   ]
  },
  {
   "cell_type": "code",
   "execution_count": 55,
   "metadata": {},
   "outputs": [],
   "source": [
    "from mod.testing import *\n",
    "import unittest"
   ]
  },
  {
   "cell_type": "markdown",
   "metadata": {},
   "source": [
    "## 1. Write a function that returns the greater of two numbers"
   ]
  },
  {
   "cell_type": "code",
   "execution_count": 2,
   "metadata": {},
   "outputs": [],
   "source": [
    "def greater(a,b):\n",
    "    if a > b:\n",
    "        return a\n",
    "    elif a < b:\n",
    "        return b\n",
    "    else:\n",
    "        print(\"Los números son iguales.\")"
   ]
  },
  {
   "cell_type": "code",
   "execution_count": 3,
   "metadata": {},
   "outputs": [
    {
     "name": "stderr",
     "output_type": "stream",
     "text": [
      "....................................................................................................\n",
      "----------------------------------------------------------------------\n",
      "Ran 100 tests in 0.042s\n",
      "\n",
      "OK\n"
     ]
    }
   ],
   "source": [
    "# This will test your function \n",
    "test_greater(greater)"
   ]
  },
  {
   "cell_type": "markdown",
   "metadata": {},
   "source": [
    "## 2. Now write a function that returns the largest element on a list"
   ]
  },
  {
   "cell_type": "code",
   "execution_count": 8,
   "metadata": {},
   "outputs": [],
   "source": [
    "def greatest(arr):\n",
    "    greatest_number = 0\n",
    "    for number in arr:\n",
    "        if number > greatest_number:\n",
    "            greatest_number = number\n",
    "    return greatest_number"
   ]
  },
  {
   "cell_type": "code",
   "execution_count": 9,
   "metadata": {},
   "outputs": [
    {
     "name": "stderr",
     "output_type": "stream",
     "text": [
      "....................................................................................................\n",
      "----------------------------------------------------------------------\n",
      "Ran 100 tests in 0.046s\n",
      "\n",
      "OK\n"
     ]
    }
   ],
   "source": [
    "# This will test your function \n",
    "test_greatest(greatest)"
   ]
  },
  {
   "cell_type": "markdown",
   "metadata": {},
   "source": [
    "## 3. Write a function that sums all the elements on a list"
   ]
  },
  {
   "cell_type": "code",
   "execution_count": 10,
   "metadata": {},
   "outputs": [],
   "source": [
    "def sum_all(arr):\n",
    "    sum = 0\n",
    "    for number in arr:\n",
    "        sum += number\n",
    "    return sum"
   ]
  },
  {
   "cell_type": "code",
   "execution_count": 11,
   "metadata": {},
   "outputs": [
    {
     "name": "stderr",
     "output_type": "stream",
     "text": [
      "....................................................................................................\n",
      "----------------------------------------------------------------------\n",
      "Ran 100 tests in 0.056s\n",
      "\n",
      "OK\n"
     ]
    }
   ],
   "source": [
    "# This will test your function \n",
    "test_sum(sum_all)"
   ]
  },
  {
   "cell_type": "markdown",
   "metadata": {},
   "source": [
    "## 4. Write another function that multiplies all the elements on a list"
   ]
  },
  {
   "cell_type": "code",
   "execution_count": 14,
   "metadata": {},
   "outputs": [],
   "source": [
    "def mult_all(arr):\n",
    "    multiply = 1\n",
    "    for number in arr:\n",
    "        multiply *= number\n",
    "    return multiply"
   ]
  },
  {
   "cell_type": "code",
   "execution_count": 15,
   "metadata": {},
   "outputs": [
    {
     "name": "stderr",
     "output_type": "stream",
     "text": [
      "....................................................................................................\n",
      "----------------------------------------------------------------------\n",
      "Ran 100 tests in 0.057s\n",
      "\n",
      "OK\n"
     ]
    }
   ],
   "source": [
    "# This will test your function \n",
    "test_mult(mult_all)"
   ]
  },
  {
   "cell_type": "markdown",
   "metadata": {},
   "source": [
    "## 5. Now combine those two ideas and write a function that receives a list and either \"+\" or \"*\" and outputs acordingly"
   ]
  },
  {
   "cell_type": "code",
   "execution_count": 210,
   "metadata": {},
   "outputs": [],
   "source": [
    "def oper_all(arr, oper):\n",
    "    print(type(arr))\n",
    "    print(type(oper))\n",
    "    \n",
    "    if oper == \"+\":\n",
    "        operation_total = 0\n",
    "        \n",
    "        for number in arr:\n",
    "            operation_total += number\n",
    "        return operation_total\n",
    "\n",
    "    elif oper == \"*\":\n",
    "        operation_total = 1\n",
    "    \n",
    "        for number in arr:\n",
    "            operation_total *= number\n",
    "        return operation_total\n",
    "\n",
    "    else:\n",
    "        print(\"No se reconoce la operación.\")"
   ]
  },
  {
   "cell_type": "code",
   "execution_count": 211,
   "metadata": {},
   "outputs": [
    {
     "name": "stdout",
     "output_type": "stream",
     "text": [
      "<class 'list'>\n",
      "<class 'str'>\n"
     ]
    },
    {
     "data": {
      "text/plain": [
       "6"
      ]
     },
     "execution_count": 211,
     "metadata": {},
     "output_type": "execute_result"
    }
   ],
   "source": [
    "lista = [2, 3]\n",
    "operacion = \"*\"\n",
    "\n",
    "oper_all(lista, operacion)"
   ]
  },
  {
   "cell_type": "code",
   "execution_count": 20,
   "metadata": {},
   "outputs": [
    {
     "name": "stderr",
     "output_type": "stream",
     "text": [
      "....................................................................................................\n",
      "----------------------------------------------------------------------\n",
      "Ran 100 tests in 0.041s\n",
      "\n",
      "OK\n"
     ]
    }
   ],
   "source": [
    "# This will test your function \n",
    "test_operations(oper_all)"
   ]
  },
  {
   "cell_type": "markdown",
   "metadata": {},
   "source": [
    "## 6. Write a function that returns the factorial of a number."
   ]
  },
  {
   "cell_type": "code",
   "execution_count": 21,
   "metadata": {},
   "outputs": [],
   "source": [
    "def factorial(n):\n",
    "    num_total = 1\n",
    "    \n",
    "    for numero in range(1, n + 1):\n",
    "        num_total *= numero\n",
    "    \n",
    "    return num_total"
   ]
  },
  {
   "cell_type": "code",
   "execution_count": 22,
   "metadata": {},
   "outputs": [
    {
     "name": "stderr",
     "output_type": "stream",
     "text": [
      "....................................................................................................\n",
      "----------------------------------------------------------------------\n",
      "Ran 100 tests in 0.048s\n",
      "\n",
      "OK\n"
     ]
    }
   ],
   "source": [
    "# This will test your function \n",
    "test_factorial(factorial)"
   ]
  },
  {
   "cell_type": "markdown",
   "metadata": {},
   "source": [
    "## 7. Write a function that takes a list and returns a list of the unique values.\n",
    "\n",
    "`NOTE: You cannot use set. 🤔`"
   ]
  },
  {
   "cell_type": "code",
   "execution_count": 26,
   "metadata": {
    "scrolled": true
   },
   "outputs": [],
   "source": [
    "def unique(arr):\n",
    "    final_list = []\n",
    "    \n",
    "    for initial_value in arr:\n",
    "        \n",
    "        duplicate = False\n",
    "        \n",
    "        for final_value in final_list:\n",
    "            if final_value == initial_value:\n",
    "                duplicate = True\n",
    "                break\n",
    "            else:\n",
    "                pass\n",
    "        \n",
    "        if duplicate == False:\n",
    "            final_list.append(initial_value)\n",
    "        \n",
    "    return final_list"
   ]
  },
  {
   "cell_type": "code",
   "execution_count": 27,
   "metadata": {},
   "outputs": [
    {
     "data": {
      "text/plain": [
       "['a', 'b', 'c']"
      ]
     },
     "execution_count": 27,
     "metadata": {},
     "output_type": "execute_result"
    }
   ],
   "source": [
    "list1 = [\"a\", \"b\", \"c\", \"a\", \"b\"]\n",
    "\n",
    "unique(list1)"
   ]
  },
  {
   "cell_type": "code",
   "execution_count": 28,
   "metadata": {},
   "outputs": [
    {
     "name": "stderr",
     "output_type": "stream",
     "text": [
      "....................................................................................................\n",
      "----------------------------------------------------------------------\n",
      "Ran 100 tests in 0.170s\n",
      "\n",
      "OK\n"
     ]
    }
   ],
   "source": [
    "# This will test your function \n",
    "test_unique(unique)"
   ]
  },
  {
   "cell_type": "markdown",
   "metadata": {},
   "source": [
    "## 8. Write a function that returns the mode of a list, i.e.: the element that appears the most times.\n",
    "`NOTE: You should not use count... 🧐`"
   ]
  },
  {
   "cell_type": "code",
   "execution_count": 51,
   "metadata": {},
   "outputs": [],
   "source": [
    "def mode_counter(arr):\n",
    "    \n",
    "    # First, lets define the elements with a diccionary with 0 counts\n",
    "    dic_count = {element: 0 for element in arr}\n",
    "    \n",
    "    # Then we count each time that a value appears\n",
    "    for element in arr:\n",
    "        dic_count[element] += 1\n",
    "    \n",
    "    # Finally, we compare the number that e\n",
    "    counter = 0\n",
    "    max_counted_element = \"\"\n",
    "\n",
    "    for key, value in dic_count.items():\n",
    "        if value > counter:\n",
    "            counter = value\n",
    "            max_counted_element = key\n",
    "    \n",
    "    return max_counted_element"
   ]
  },
  {
   "cell_type": "code",
   "execution_count": 53,
   "metadata": {},
   "outputs": [
    {
     "name": "stdout",
     "output_type": "stream",
     "text": [
      "b\n"
     ]
    }
   ],
   "source": [
    "list1 = [\"a\", \"b\", \"c\", \"a\", \"b\", \"b\"]\n",
    "\n",
    "print(mode_counter(list1))"
   ]
  },
  {
   "cell_type": "code",
   "execution_count": 54,
   "metadata": {},
   "outputs": [
    {
     "name": "stderr",
     "output_type": "stream",
     "text": [
      "....................................................................................................\n",
      "----------------------------------------------------------------------\n",
      "Ran 100 tests in 0.044s\n",
      "\n",
      "OK\n"
     ]
    }
   ],
   "source": [
    "# This will test your function \n",
    "test_mode(mode_counter)"
   ]
  },
  {
   "cell_type": "markdown",
   "metadata": {},
   "source": [
    "## 9. Write a function that calculates the standard deviation of a list.\n",
    "`NOTE: Do not use any libraries or already built functions. 😉`"
   ]
  },
  {
   "cell_type": "code",
   "execution_count": 72,
   "metadata": {},
   "outputs": [],
   "source": [
    "from statistics import stdev\n",
    "\n",
    "def st_dev(arr):\n",
    "    \n",
    "    #First, we get the mean\n",
    "    suma = 0\n",
    "    counter = 0\n",
    "    \n",
    "    for number in arr:\n",
    "        suma += number\n",
    "        counter += 1\n",
    "    \n",
    "    mean = suma/counter\n",
    "    \n",
    "    suma_var = 0\n",
    "    variance = 0\n",
    "    \n",
    "    for number in arr:\n",
    "        suma_var += (number - mean) ** 2\n",
    "    \n",
    "    variance = suma_var / (counter - 1) \n",
    "    \n",
    "    # LA RESPUESTA CORRECTA NO SERÍA CON EL (n) EN VEZ DEL (n-1) YA NO NOS DIJERON QUE ES UNA MUESTRA, ENTONCES SERÍA UNA POBLACIÓN TOTAL.\n",
    "    \n",
    "    dev = variance ** 0.5\n",
    "    \n",
    "    return dev "
   ]
  },
  {
   "cell_type": "code",
   "execution_count": 73,
   "metadata": {},
   "outputs": [
    {
     "data": {
      "text/plain": [
       "1.8708286933869707"
      ]
     },
     "execution_count": 73,
     "metadata": {},
     "output_type": "execute_result"
    }
   ],
   "source": [
    "list1 = [1,2,3,4,5,6]\n",
    "\n",
    "st_dev(list1)"
   ]
  },
  {
   "cell_type": "code",
   "execution_count": 74,
   "metadata": {},
   "outputs": [
    {
     "name": "stderr",
     "output_type": "stream",
     "text": [
      "....................................................................................................\n",
      "----------------------------------------------------------------------\n",
      "Ran 100 tests in 0.045s\n",
      "\n",
      "OK\n"
     ]
    }
   ],
   "source": [
    "# This will test your function \n",
    "test_stdev(st_dev)"
   ]
  },
  {
   "cell_type": "markdown",
   "metadata": {},
   "source": [
    "## 10. Write a function to check if a string is a pangram, i.e.: if it contains all the letters of the alphabet at least once. Mind that the strings may contain characters that are not letters."
   ]
  },
  {
   "cell_type": "code",
   "execution_count": 207,
   "metadata": {},
   "outputs": [],
   "source": [
    "def pangram(string):\n",
    "    dicc = {\"a\": 0,\n",
    "           \"b\": 0,\n",
    "           \"c\": 0,\n",
    "           \"d\": 0,\n",
    "           \"e\": 0,\n",
    "           \"f\": 0,\n",
    "           \"g\": 0,\n",
    "           \"h\": 0,\n",
    "           \"i\": 0,\n",
    "           \"j\": 0,\n",
    "           \"k\": 0,\n",
    "           \"l\": 0,\n",
    "           \"m\": 0,\n",
    "           \"n\": 0,\n",
    "           \"o\": 0,\n",
    "           \"p\": 0,\n",
    "           \"q\": 0,\n",
    "           \"r\": 0,\n",
    "           \"s\": 0,\n",
    "           \"t\": 0,\n",
    "           \"u\": 0,\n",
    "           \"v\": 0,\n",
    "           \"w\": 0,\n",
    "           \"x\": 0,\n",
    "           \"y\": 0,\n",
    "           \"z\": 0,\n",
    "           }\n",
    "    \n",
    "    letters = [\"a\", \"b\", \"c\", \"d\", \"e\", \"f\", \"g\", \"h\", \"i\", \"j\", \"k\", \"l\", \"m\", \"n\", \"ñ\", \"o\", \"p\", \"q\", \"r\", \"s\", \"t\", \"u\", \"v\", \"w\", \"x\", \"y\", \"z\"]\n",
    "    \n",
    "    for l in string:\n",
    "        if l == \"A\":\n",
    "            l = \"a\"\n",
    "        elif l == \"B\":\n",
    "            l = \"b\"\n",
    "        elif l == \"C\":\n",
    "            l = \"c\"\n",
    "        elif l == \"D\":\n",
    "            l = \"d\"\n",
    "        elif l == \"E\":\n",
    "            l = \"e\"\n",
    "        elif l == \"F\":\n",
    "            l = \"f\"\n",
    "        elif l == \"G\":\n",
    "            l = \"g\"\n",
    "        elif l == \"H\":\n",
    "            l = \"h\"\n",
    "        elif l == \"I\":\n",
    "            l = \"i\"\n",
    "        elif l == \"J\":\n",
    "            l = \"j\"\n",
    "        elif l == \"K\":\n",
    "            l = \"k\"\n",
    "        elif l == \"L\":\n",
    "            l = \"l\"\n",
    "        elif l == \"M\":\n",
    "            l = \"m\"\n",
    "        elif l == \"N\":\n",
    "            l = \"n\"\n",
    "        elif l == \"O\":\n",
    "            l = \"o\"\n",
    "        elif l == \"P\":\n",
    "            l = \"p\"\n",
    "        elif l == \"Q\":\n",
    "            l = \"q\"\n",
    "        elif l == \"R\":\n",
    "            l = \"r\"\n",
    "        elif l == \"S\":\n",
    "            l = \"s\"\n",
    "        elif l == \"T\":\n",
    "            l = \"t\"\n",
    "        elif l == \"U\":\n",
    "            l = \"u\"\n",
    "        elif l == \"V\":\n",
    "            l = \"v\"\n",
    "        elif l == \"W\":\n",
    "            l = \"w\"\n",
    "        elif l == \"X\":\n",
    "            l = \"x\"\n",
    "        elif l == \"Y\":\n",
    "            l = \"y\"\n",
    "        elif l == \"Z\":\n",
    "            l = \"z\"\n",
    "        else:\n",
    "            pass\n",
    "        \n",
    "        for letter in letters:\n",
    "            if letter == l:\n",
    "                dicc[l] += 1\n",
    "\n",
    "    print(dicc)\n",
    "        \n",
    "    if dicc[\"a\"] >= 1 and dicc[\"b\"] >= 1 and dicc[\"c\"] >= 1 and dicc[\"e\"] >= 1 and dicc[\"f\"] >= 1 and dicc[\"g\"] >= 1 and dicc[\"h\"] >= 1 and dicc[\"i\"] >= 1 and dicc[\"j\"] >= 1 and dicc[\"k\"] >= 1 and dicc[\"l\"] >= 1 and dicc[\"m\"] >= 1 and dicc[\"n\"] >= 1 and dicc[\"o\"] >= 1 and dicc[\"p\"] >= 1 and dicc[\"q\"] >= 1 and dicc[\"r\"] >= 1 and dicc[\"s\"] >= 1 and dicc[\"t\"] >= 1 and dicc[\"u\"] >= 1 and dicc[\"v\"] >= 1 and dicc[\"w\"] >= 1 and dicc[\"x\"] >= 1 and dicc[\"y\"] >= 1 and dicc[\"z\"] >= 1:\n",
    "        return True\n",
    "    else:\n",
    "        return False\n"
   ]
  },
  {
   "cell_type": "code",
   "execution_count": 208,
   "metadata": {},
   "outputs": [
    {
     "name": "stdout",
     "output_type": "stream",
     "text": [
      "{'a': 1, 'b': 1, 'c': 2, 'd': 1, 'e': 2, 'f': 1, 'g': 1, 'h': 1, 'i': 2, 'j': 4, 'k': 2, 'l': 2, 'm': 1, 'n': 1, 'ñ': 1, 'o': 1, 'p': 2, 'q': 1, 'r': 1, 's': 2, 't': 1, 'u': 2, 'v': 1, 'w': 1, 'x': 1, 'y': 1, 'z': 1}\n",
      "{'a': 1, 'b': 1, 'c': 1, 'd': 1, 'e': 2, 'f': 1, 'g': 1, 'h': 1, 'i': 3, 'j': 1, 'k': 1, 'l': 1, 'm': 1, 'n': 1, 'ñ': 0, 'o': 3, 'p': 1, 'q': 1, 'r': 1, 's': 1, 't': 1, 'u': 2, 'v': 1, 'w': 1, 'x': 1, 'y': 1, 'z': 1}\n"
     ]
    },
    {
     "data": {
      "text/plain": [
       "True"
      ]
     },
     "execution_count": 208,
     "metadata": {},
     "output_type": "execute_result"
    }
   ],
   "source": [
    "pangram(\"abcdefjjjlieupskcghiJKLMNOñPQrstuVWXYz\")\n",
    "\n",
    "pangram(\"Pack my box with five dozen liquor jugs\")"
   ]
  },
  {
   "cell_type": "code",
   "execution_count": 209,
   "metadata": {},
   "outputs": [
    {
     "name": "stderr",
     "output_type": "stream",
     "text": [
      ".............................."
     ]
    },
    {
     "name": "stdout",
     "output_type": "stream",
     "text": [
      "{'a': 1, 'b': 1, 'c': 1, 'd': 1, 'e': 1, 'f': 1, 'g': 1, 'h': 1, 'i': 2, 'j': 1, 'k': 1, 'l': 1, 'm': 1, 'n': 1, 'ñ': 0, 'o': 1, 'p': 1, 'q': 1, 'r': 1, 's': 1, 't': 1, 'u': 2, 'v': 1, 'w': 1, 'x': 1, 'y': 1, 'z': 1}\n",
      "{'a': 2, 'b': 1, 'c': 1, 'd': 1, 'e': 1, 'f': 1, 'g': 1, 'h': 1, 'i': 1, 'j': 1, 'k': 1, 'l': 1, 'm': 1, 'n': 1, 'ñ': 0, 'o': 2, 'p': 1, 'q': 1, 'r': 1, 's': 1, 't': 1, 'u': 2, 'v': 1, 'w': 1, 'x': 1, 'y': 1, 'z': 1}\n",
      "{'a': 1, 'b': 1, 'c': 1, 'd': 1, 'e': 2, 'f': 1, 'g': 1, 'h': 1, 'i': 3, 'j': 1, 'k': 1, 'l': 1, 'm': 1, 'n': 1, 'ñ': 0, 'o': 3, 'p': 1, 'q': 1, 'r': 1, 's': 1, 't': 1, 'u': 2, 'v': 1, 'w': 1, 'x': 1, 'y': 1, 'z': 1}\n",
      "{'a': 1, 'b': 1, 'c': 1, 'd': 1, 'e': 1, 'f': 1, 'g': 1, 'h': 1, 'i': 2, 'j': 1, 'k': 1, 'l': 1, 'm': 1, 'n': 1, 'ñ': 0, 'o': 2, 'p': 1, 'q': 1, 'r': 1, 's': 1, 't': 1, 'u': 1, 'v': 1, 'w': 1, 'x': 1, 'y': 1, 'z': 1}\n",
      "{'a': 3, 'b': 1, 'c': 1, 'd': 1, 'e': 1, 'f': 1, 'g': 1, 'h': 1, 'i': 2, 'j': 1, 'k': 1, 'l': 1, 'm': 1, 'n': 1, 'ñ': 0, 'o': 2, 'p': 1, 'q': 1, 'r': 1, 's': 2, 't': 1, 'u': 1, 'v': 1, 'w': 1, 'x': 1, 'y': 1, 'z': 1}\n",
      "{'a': 1, 'b': 1, 'c': 1, 'd': 1, 'e': 2, 'f': 1, 'g': 1, 'h': 1, 'i': 4, 'j': 1, 'k': 1, 'l': 1, 'm': 1, 'n': 1, 'ñ': 0, 'o': 1, 'p': 1, 'q': 1, 'r': 1, 's': 1, 't': 1, 'u': 2, 'v': 1, 'w': 1, 'x': 1, 'y': 1, 'z': 1}\n",
      "{'a': 2, 'b': 1, 'c': 1, 'd': 1, 'e': 2, 'f': 1, 'g': 1, 'h': 1, 'i': 2, 'j': 1, 'k': 1, 'l': 1, 'm': 1, 'n': 1, 'ñ': 0, 'o': 1, 'p': 1, 'q': 1, 'r': 1, 's': 1, 't': 1, 'u': 2, 'v': 1, 'w': 1, 'x': 1, 'y': 1, 'z': 1}\n",
      "{'a': 1, 'b': 1, 'c': 1, 'd': 1, 'e': 2, 'f': 1, 'g': 1, 'h': 1, 'i': 3, 'j': 1, 'k': 1, 'l': 1, 'm': 1, 'n': 1, 'ñ': 0, 'o': 1, 'p': 1, 'q': 1, 'r': 1, 's': 1, 't': 1, 'u': 1, 'v': 1, 'w': 1, 'x': 1, 'y': 1, 'z': 1}\n",
      "{'a': 1, 'b': 1, 'c': 1, 'd': 1, 'e': 2, 'f': 1, 'g': 1, 'h': 1, 'i': 3, 'j': 1, 'k': 1, 'l': 1, 'm': 1, 'n': 1, 'ñ': 0, 'o': 2, 'p': 1, 'q': 1, 'r': 1, 's': 1, 't': 1, 'u': 1, 'v': 1, 'w': 1, 'x': 1, 'y': 1, 'z': 1}\n",
      "{'a': 4, 'b': 1, 'c': 1, 'd': 1, 'e': 3, 'f': 1, 'g': 1, 'h': 1, 'i': 1, 'j': 1, 'k': 1, 'l': 1, 'm': 1, 'n': 1, 'ñ': 0, 'o': 2, 'p': 1, 'q': 1, 'r': 1, 's': 1, 't': 1, 'u': 1, 'v': 1, 'w': 1, 'x': 1, 'y': 2, 'z': 1}\n",
      "{'a': 2, 'b': 1, 'c': 1, 'd': 1, 'e': 3, 'f': 1, 'g': 1, 'h': 1, 'i': 4, 'j': 1, 'k': 1, 'l': 1, 'm': 1, 'n': 1, 'ñ': 0, 'o': 2, 'p': 1, 'q': 1, 'r': 1, 's': 2, 't': 2, 'u': 2, 'v': 1, 'w': 1, 'x': 1, 'y': 1, 'z': 1}\n",
      "{'a': 2, 'b': 1, 'c': 2, 'd': 1, 'e': 1, 'f': 1, 'g': 1, 'h': 1, 'i': 4, 'j': 1, 'k': 1, 'l': 1, 'm': 1, 'n': 1, 'ñ': 0, 'o': 3, 'p': 1, 'q': 1, 'r': 1, 's': 3, 't': 1, 'u': 2, 'v': 1, 'w': 1, 'x': 1, 'y': 1, 'z': 1}\n",
      "{'a': 4, 'b': 1, 'c': 1, 'd': 1, 'e': 5, 'f': 1, 'g': 1, 'h': 1, 'i': 1, 'j': 1, 'k': 1, 'l': 1, 'm': 1, 'n': 1, 'ñ': 0, 'o': 1, 'p': 1, 'q': 1, 'r': 2, 's': 1, 't': 3, 'u': 2, 'v': 1, 'w': 1, 'x': 1, 'y': 1, 'z': 1}\n",
      "{'a': 2, 'b': 1, 'c': 2, 'd': 1, 'e': 3, 'f': 1, 'g': 1, 'h': 1, 'i': 3, 'j': 1, 'k': 1, 'l': 1, 'm': 1, 'n': 1, 'ñ': 0, 'o': 4, 'p': 2, 'q': 1, 'r': 2, 's': 1, 't': 1, 'u': 2, 'v': 1, 'w': 1, 'x': 1, 'y': 4, 'z': 1}\n",
      "{'a': 3, 'b': 1, 'c': 1, 'd': 1, 'e': 3, 'f': 1, 'g': 1, 'h': 1, 'i': 3, 'j': 1, 'k': 1, 'l': 1, 'm': 1, 'n': 2, 'ñ': 0, 'o': 1, 'p': 1, 'q': 1, 'r': 1, 's': 1, 't': 1, 'u': 2, 'v': 1, 'w': 1, 'x': 1, 'y': 1, 'z': 2}\n",
      "{'a': 1, 'b': 1, 'c': 6, 'd': 4, 'e': 1, 'f': 0, 'g': 4, 'h': 3, 'i': 3, 'j': 0, 'k': 2, 'l': 4, 'm': 3, 'n': 2, 'ñ': 0, 'o': 4, 'p': 1, 'q': 2, 'r': 0, 's': 1, 't': 0, 'u': 2, 'v': 0, 'w': 3, 'x': 2, 'y': 2, 'z': 3}\n",
      "{'a': 4, 'b': 1, 'c': 3, 'd': 0, 'e': 1, 'f': 3, 'g': 2, 'h': 1, 'i': 3, 'j': 4, 'k': 3, 'l': 2, 'm': 1, 'n': 2, 'ñ': 0, 'o': 0, 'p': 1, 'q': 2, 'r': 3, 's': 2, 't': 2, 'u': 4, 'v': 3, 'w': 1, 'x': 2, 'y': 1, 'z': 2}\n",
      "{'a': 3, 'b': 6, 'c': 9, 'd': 1, 'e': 3, 'f': 1, 'g': 3, 'h': 9, 'i': 1, 'j': 0, 'k': 2, 'l': 2, 'm': 2, 'n': 4, 'ñ': 0, 'o': 6, 'p': 5, 'q': 4, 'r': 1, 's': 2, 't': 6, 'u': 1, 'v': 7, 'w': 5, 'x': 4, 'y': 6, 'z': 5}\n",
      "{'a': 9, 'b': 1, 'c': 3, 'd': 3, 'e': 3, 'f': 2, 'g': 7, 'h': 3, 'i': 6, 'j': 3, 'k': 5, 'l': 2, 'm': 2, 'n': 1, 'ñ': 0, 'o': 3, 'p': 3, 'q': 0, 'r': 1, 's': 2, 't': 1, 'u': 4, 'v': 2, 'w': 5, 'x': 2, 'y': 1, 'z': 6}\n",
      "{'a': 2, 'b': 2, 'c': 3, 'd': 1, 'e': 0, 'f': 1, 'g': 3, 'h': 1, 'i': 4, 'j': 3, 'k': 3, 'l': 6, 'm': 0, 'n': 1, 'ñ': 0, 'o': 2, 'p': 2, 'q': 3, 'r': 1, 's': 4, 't': 1, 'u': 1, 'v': 2, 'w': 3, 'x': 2, 'y': 2, 'z': 1}\n",
      "{'a': 1, 'b': 0, 'c': 2, 'd': 2, 'e': 6, 'f': 1, 'g': 3, 'h': 1, 'i': 3, 'j': 5, 'k': 2, 'l': 1, 'm': 5, 'n': 5, 'ñ': 0, 'o': 1, 'p': 0, 'q': 0, 'r': 2, 's': 1, 't': 2, 'u': 2, 'v': 0, 'w': 3, 'x': 3, 'y': 4, 'z': 0}\n",
      "{'a': 2, 'b': 9, 'c': 2, 'd': 3, 'e': 7, 'f': 3, 'g': 6, 'h': 6, 'i': 4, 'j': 2, 'k': 3, 'l': 0, 'm': 2, 'n': 1, 'ñ': 0, 'o': 4, 'p': 7, 'q': 5, 'r': 2, 's': 5, 't': 3, 'u': 4, 'v': 3, 'w': 2, 'x': 3, 'y': 6, 'z': 2}\n",
      "{'a': 4, 'b': 2, 'c': 4, 'd': 3, 'e': 3, 'f': 4, 'g': 1, 'h': 4, 'i': 4, 'j': 7, 'k': 5, 'l': 3, 'm': 1, 'n': 1, 'ñ': 0, 'o': 3, 'p': 3, 'q': 3, 'r': 4, 's': 4, 't': 3, 'u': 2, 'v': 4, 'w': 4, 'x': 2, 'y': 4, 'z': 3}\n",
      "{'a': 4, 'b': 2, 'c': 5, 'd': 6, 'e': 3, 'f': 6, 'g': 1, 'h': 4, 'i': 7, 'j': 1, 'k': 2, 'l': 2, 'm': 1, 'n': 6, 'ñ': 0, 'o': 0, 'p': 2, 'q': 6, 'r': 2, 's': 3, 't': 2, 'u': 4, 'v': 2, 'w': 0, 'x': 4, 'y': 3, 'z': 2}\n",
      "{'a': 0, 'b': 5, 'c': 1, 'd': 1, 'e': 1, 'f': 5, 'g': 1, 'h': 3, 'i': 3, 'j': 7, 'k': 3, 'l': 3, 'm': 0, 'n': 1, 'ñ': 0, 'o': 1, 'p': 1, 'q': 3, 'r': 5, 's': 4, 't': 2, 'u': 4, 'v': 2, 'w': 2, 'x': 3, 'y': 3, 'z': 3}\n",
      "{'a': 1, 'b': 3, 'c': 3, 'd': 3, 'e': 0, 'f': 1, 'g': 2, 'h': 1, 'i': 0, 'j': 1, 'k': 0, 'l': 2, 'm': 0, 'n': 3, 'ñ': 0, 'o': 2, 'p': 0, 'q': 0, 'r': 0, 's': 1, 't': 0, 'u': 1, 'v': 2, 'w': 1, 'x': 1, 'y': 2, 'z': 3}\n",
      "{'a': 4, 'b': 3, 'c': 5, 'd': 2, 'e': 5, 'f': 1, 'g': 5, 'h': 4, 'i': 2, 'j': 1, 'k': 2, 'l': 1, 'm': 2, 'n': 3, 'ñ': 0, 'o': 3, 'p': 2, 'q': 4, 'r': 2, 's': 2, 't': 0, 'u': 3, 'v': 3, 'w': 2, 'x': 0, 'y': 1, 'z': 3}\n",
      "{'a': 3, 'b': 4, 'c': 6, 'd': 4, 'e': 3, 'f': 6, 'g': 5, 'h': 5, 'i': 3, 'j': 1, 'k': 2, 'l': 4, 'm': 0, 'n': 5, 'ñ': 0, 'o': 3, 'p': 6, 'q': 2, 'r': 6, 's': 5, 't': 8, 'u': 3, 'v': 4, 'w': 4, 'x': 3, 'y': 4, 'z': 1}\n",
      "{'a': 3, 'b': 3, 'c': 3, 'd': 2, 'e': 2, 'f': 4, 'g': 5, 'h': 6, 'i': 2, 'j': 4, 'k': 1, 'l': 3, 'm': 1, 'n': 5, 'ñ': 0, 'o': 5, 'p': 2, 'q': 2, 'r': 1, 's': 4, 't': 6, 'u': 3, 'v': 4, 'w': 1, 'x': 3, 'y': 5, 'z': 0}\n",
      "{'a': 1, 'b': 4, 'c': 1, 'd': 1, 'e': 1, 'f': 1, 'g': 0, 'h': 4, 'i': 1, 'j': 1, 'k': 1, 'l': 1, 'm': 1, 'n': 4, 'ñ': 0, 'o': 0, 'p': 1, 'q': 1, 'r': 1, 's': 2, 't': 1, 'u': 0, 'v': 2, 'w': 0, 'x': 1, 'y': 1, 'z': 6}\n"
     ]
    },
    {
     "name": "stderr",
     "output_type": "stream",
     "text": [
      "\n",
      "----------------------------------------------------------------------\n",
      "Ran 30 tests in 0.019s\n",
      "\n",
      "OK\n"
     ]
    }
   ],
   "source": [
    "# This will test your function \n",
    "test_pangram(pangram)"
   ]
  },
  {
   "cell_type": "markdown",
   "metadata": {},
   "source": [
    "## 11. Write a function that receives a string of comma separated words and returns a string of comma separated words sorted alphabetically.\n",
    "\n",
    "`NOTE: You may use sorted but not split and definitely no join! 🤪`"
   ]
  },
  {
   "cell_type": "code",
   "execution_count": 112,
   "metadata": {},
   "outputs": [],
   "source": [
    "def sort_alpha(string):\n",
    "    index = 0\n",
    "    first_list = [\"\"]\n",
    "    \n",
    "    for l in string:\n",
    "        if l == \",\":\n",
    "            index += 1\n",
    "            first_list.append(\"\")\n",
    "        else:\n",
    "            first_list[index] += l\n",
    "            \n",
    "    final_list = sorted(first_list)\n",
    "    \n",
    "    final_string = \"\"\n",
    "    \n",
    "    for word in final_list:\n",
    "        final_string += word\n",
    "        if word != final_list[-1]:\n",
    "            final_string += \",\"\n",
    "\n",
    "    return final_string"
   ]
  },
  {
   "cell_type": "code",
   "execution_count": 113,
   "metadata": {},
   "outputs": [
    {
     "data": {
      "text/plain": [
       "'buenos,chau,dias,hola'"
      ]
     },
     "execution_count": 113,
     "metadata": {},
     "output_type": "execute_result"
    }
   ],
   "source": [
    "frase = \"hola,chau,buenos,dias\"\n",
    "\n",
    "sort_alpha(frase)"
   ]
  },
  {
   "cell_type": "code",
   "execution_count": 114,
   "metadata": {},
   "outputs": [
    {
     "name": "stderr",
     "output_type": "stream",
     "text": [
      "....................................................................................................\n",
      "----------------------------------------------------------------------\n",
      "Ran 100 tests in 0.050s\n",
      "\n",
      "OK\n"
     ]
    }
   ],
   "source": [
    "# This will test your function \n",
    "test_alpha(sort_alpha)"
   ]
  },
  {
   "cell_type": "markdown",
   "metadata": {},
   "source": [
    "## 12. Write a function to check if a given password is strong (at least 8 characters, at least one lower case, at least one upper case, at least one number and at least one special character). It should output True if strong and False if not.\n",
    "`Valid special characters: # @ ! $ % & ( ) ^ * [ ] { }`"
   ]
  },
  {
   "cell_type": "code",
   "execution_count": 159,
   "metadata": {},
   "outputs": [],
   "source": [
    "def check_pass(string):\n",
    "    count_password = {\n",
    "        \"lower\": 0,\n",
    "        \"upper\": 0, \n",
    "        \"number\": 0, \n",
    "        \"special\": 0\n",
    "    }\n",
    "    \n",
    "    \"\"\"\n",
    "    PRIMERA FORMA DE RESOLVERLO\n",
    "    \"\"\"\n",
    "\n",
    "    lower = [\"a\", \"b\", \"c\", \"d\", \"e\", \"f\", \"g\", \"h\", \"i\", \"j\", \"k\", \"l\", \"m\", \"n\", \"ñ\", \"o\", \"p\", \"q\", \"r\", \"s\", \"t\", \"u\", \"v\", \"w\", \"x\", \"y\", \"z\"]\n",
    "    upper = [\"A\", \"B\", \"C\", \"D\", \"E\", \"F\", \"G\", \"H\", \"I\", \"J\", \"K\", \"L\", \"M\", \"N\", \"Ñ\", \"O\", \"P\", \"Q\", \"R\", \"S\", \"T\", \"U\", \"V\", \"W\", \"X\", \"Y\", \"Z\"]\n",
    "    number = [\"1\", \"2\", \"3\", \"4\", \"5\", \"6\", \"7\", \"8\", \"9\", \"0\"]\n",
    "    special = [\"#\", \"@\", \"!\", \"$\", \"%\", \"&\", \"(\", \")\", \"^\", \"*\", \"[\", \"]\",\"{\", \"}\"]\n",
    "    \n",
    "    for l in string:\n",
    "        for character in lower:\n",
    "            if l == character:\n",
    "                count_password[\"lower\"] += 1\n",
    "        for character in upper:\n",
    "            if l == character:\n",
    "                count_password[\"upper\"] += 1\n",
    "        for character in number:\n",
    "            if l == character:\n",
    "                count_password[\"number\"] += 1\n",
    "        for character in special:\n",
    "            if l == character:\n",
    "                count_password[\"special\"] += 1\n",
    "            \n",
    "    \"\"\"\n",
    "    # SEGUNDA FORMA DE RESOLVERLO:\n",
    "    \n",
    "    \n",
    "    for l in string:\n",
    "        print(l)\n",
    "        if l == \"a\" or l == \"b\" or l == \"c\" or l == \"d\" or l == \"e\" or l == \"f\" or l == \"g\" or l == \"h\" or l == \"i\" or l == \"j\" or l == \"k\" or l == \"l\" or l == \"m\" or l == \"n\" or l == \"ñ\" or l == \"o\" or l == \"p\" or l == \"q\" or l == \"r\" or l == \"s\" or l == \"t\" or l == \"u\" or l == \"v\" or l == \"w\" or l == \"x\" or l == \"y\" or l == \"z\":\n",
    "            count_password[\"lower\"] += 1\n",
    "        if l == \"A\" or l == \"B\" or l == \"C\" or l == \"D\" or l == \"E\" or l == \"F\" or l == \"G\" or l == \"H\" or l == \"I\" or l == \"J\" or l == \"K\" or l == \"L\" or l == \"M\" or l == \"N\" or l == \"Ñ\" or l == \"O\" or l == \"P\" or l == \"Q\" or l == \"R\" or l == \"S\" or l == \"T\" or l == \"U\" or l == \"V\" or l == \"W\" or l == \"X\" or l == \"Y\" or l == \"Z\":\n",
    "            count_password[\"upper\"] += 1\n",
    "        if l == \"1\" or l == \"2\" or l == \"3\" or l == \"4\" or l == \"5\" or l == \"6\" or l == \"7\" or l == \"8\" or l == \"9\" or l == \"0\":\n",
    "            count_password[\"number\"] += 1  \n",
    "        if l == \"#\" or l == \"@\" or l == \"!\" or l == \"%\" or l == \"&\" or l == \"(\" or l == \")\" or l == \"^\" or l == \"*\" or l == \"[\" or l == \"]\" or l == \"{\" or l == \"}\":\n",
    "            count_password[\"special\"] += 1\n",
    "    \n",
    "    \"\"\"\n",
    "    \n",
    "    print(count_password)\n",
    "    \n",
    "    if count_password[\"lower\"] + count_password[\"upper\"] + count_password[\"number\"] + count_password[\"special\"] >= 8 and count_password[\"lower\"] >= 1 and count_password[\"upper\"] >= 1 and count_password[\"number\"] >= 1 and count_password[\"special\"] >= 1:\n",
    "        return True\n",
    "    else:\n",
    "        return False"
   ]
  },
  {
   "cell_type": "code",
   "execution_count": 160,
   "metadata": {
    "scrolled": true
   },
   "outputs": [
    {
     "name": "stdout",
     "output_type": "stream",
     "text": [
      "{'lower': 1, 'upper': 2, 'number': 1, 'special': 1}\n",
      "False\n"
     ]
    }
   ],
   "source": [
    "print(check_pass(\"LoC!1\"))"
   ]
  },
  {
   "cell_type": "code",
   "execution_count": 161,
   "metadata": {},
   "outputs": [
    {
     "name": "stderr",
     "output_type": "stream",
     "text": [
      "...................................................................................................."
     ]
    },
    {
     "name": "stdout",
     "output_type": "stream",
     "text": [
      "{'lower': 10, 'upper': 1, 'number': 1, 'special': 2}\n",
      "{'lower': 12, 'upper': 2, 'number': 0, 'special': 2}\n",
      "{'lower': 6, 'upper': 1, 'number': 1, 'special': 0}\n",
      "{'lower': 6, 'upper': 7, 'number': 0, 'special': 2}\n",
      "{'lower': 5, 'upper': 1, 'number': 2, 'special': 1}\n",
      "{'lower': 7, 'upper': 3, 'number': 0, 'special': 1}\n",
      "{'lower': 2, 'upper': 2, 'number': 0, 'special': 0}\n",
      "{'lower': 3, 'upper': 0, 'number': 0, 'special': 0}\n",
      "{'lower': 1, 'upper': 0, 'number': 1, 'special': 0}\n",
      "{'lower': 7, 'upper': 3, 'number': 1, 'special': 0}\n",
      "{'lower': 2, 'upper': 1, 'number': 0, 'special': 0}\n",
      "{'lower': 5, 'upper': 2, 'number': 2, 'special': 0}\n",
      "{'lower': 5, 'upper': 1, 'number': 0, 'special': 0}\n",
      "{'lower': 8, 'upper': 3, 'number': 0, 'special': 4}\n",
      "{'lower': 2, 'upper': 2, 'number': 0, 'special': 1}\n",
      "{'lower': 5, 'upper': 3, 'number': 1, 'special': 5}\n",
      "{'lower': 1, 'upper': 0, 'number': 1, 'special': 0}\n",
      "{'lower': 4, 'upper': 3, 'number': 1, 'special': 1}\n",
      "{'lower': 6, 'upper': 0, 'number': 0, 'special': 1}\n",
      "{'lower': 6, 'upper': 1, 'number': 1, 'special': 2}\n",
      "{'lower': 4, 'upper': 0, 'number': 0, 'special': 1}\n",
      "{'lower': 4, 'upper': 0, 'number': 1, 'special': 0}\n",
      "{'lower': 7, 'upper': 6, 'number': 0, 'special': 3}\n",
      "{'lower': 3, 'upper': 2, 'number': 0, 'special': 1}\n",
      "{'lower': 12, 'upper': 3, 'number': 0, 'special': 1}\n",
      "{'lower': 2, 'upper': 2, 'number': 0, 'special': 1}\n",
      "{'lower': 8, 'upper': 1, 'number': 2, 'special': 2}\n",
      "{'lower': 1, 'upper': 0, 'number': 1, 'special': 0}\n",
      "{'lower': 4, 'upper': 0, 'number': 0, 'special': 0}\n",
      "{'lower': 4, 'upper': 2, 'number': 0, 'special': 3}\n",
      "{'lower': 6, 'upper': 1, 'number': 1, 'special': 4}\n",
      "{'lower': 3, 'upper': 1, 'number': 0, 'special': 0}\n",
      "{'lower': 6, 'upper': 5, 'number': 1, 'special': 1}\n",
      "{'lower': 4, 'upper': 2, 'number': 0, 'special': 0}\n",
      "{'lower': 3, 'upper': 1, 'number': 0, 'special': 1}\n",
      "{'lower': 5, 'upper': 4, 'number': 1, 'special': 2}\n",
      "{'lower': 7, 'upper': 4, 'number': 0, 'special': 1}\n",
      "{'lower': 1, 'upper': 1, 'number': 0, 'special': 0}\n",
      "{'lower': 2, 'upper': 1, 'number': 0, 'special': 0}\n",
      "{'lower': 7, 'upper': 3, 'number': 1, 'special': 0}\n",
      "{'lower': 9, 'upper': 0, 'number': 0, 'special': 3}\n",
      "{'lower': 7, 'upper': 2, 'number': 0, 'special': 0}\n",
      "{'lower': 8, 'upper': 3, 'number': 3, 'special': 1}\n",
      "{'lower': 7, 'upper': 2, 'number': 0, 'special': 3}\n",
      "{'lower': 2, 'upper': 0, 'number': 0, 'special': 0}\n",
      "{'lower': 4, 'upper': 0, 'number': 0, 'special': 2}\n",
      "{'lower': 5, 'upper': 2, 'number': 1, 'special': 0}\n",
      "{'lower': 6, 'upper': 2, 'number': 1, 'special': 2}\n",
      "{'lower': 5, 'upper': 4, 'number': 1, 'special': 0}\n",
      "{'lower': 6, 'upper': 3, 'number': 2, 'special': 1}\n",
      "{'lower': 6, 'upper': 4, 'number': 0, 'special': 3}\n",
      "{'lower': 8, 'upper': 4, 'number': 2, 'special': 1}\n",
      "{'lower': 6, 'upper': 0, 'number': 1, 'special': 0}\n",
      "{'lower': 3, 'upper': 1, 'number': 0, 'special': 3}\n",
      "{'lower': 5, 'upper': 1, 'number': 1, 'special': 0}\n",
      "{'lower': 3, 'upper': 0, 'number': 0, 'special': 1}\n",
      "{'lower': 2, 'upper': 4, 'number': 1, 'special': 2}\n",
      "{'lower': 7, 'upper': 5, 'number': 0, 'special': 1}\n",
      "{'lower': 2, 'upper': 0, 'number': 0, 'special': 0}\n",
      "{'lower': 3, 'upper': 3, 'number': 0, 'special': 0}\n",
      "{'lower': 11, 'upper': 2, 'number': 0, 'special': 0}\n",
      "{'lower': 2, 'upper': 2, 'number': 0, 'special': 0}\n",
      "{'lower': 11, 'upper': 2, 'number': 2, 'special': 0}\n",
      "{'lower': 9, 'upper': 2, 'number': 1, 'special': 2}\n",
      "{'lower': 5, 'upper': 1, 'number': 0, 'special': 0}\n",
      "{'lower': 4, 'upper': 1, 'number': 0, 'special': 0}\n",
      "{'lower': 9, 'upper': 0, 'number': 2, 'special': 0}\n",
      "{'lower': 8, 'upper': 5, 'number': 0, 'special': 0}\n",
      "{'lower': 2, 'upper': 1, 'number': 1, 'special': 0}\n",
      "{'lower': 2, 'upper': 2, 'number': 0, 'special': 0}\n",
      "{'lower': 5, 'upper': 4, 'number': 1, 'special': 1}\n",
      "{'lower': 1, 'upper': 2, 'number': 0, 'special': 1}\n",
      "{'lower': 6, 'upper': 2, 'number': 1, 'special': 3}\n",
      "{'lower': 4, 'upper': 2, 'number': 0, 'special': 0}\n",
      "{'lower': 1, 'upper': 0, 'number': 0, 'special': 1}\n",
      "{'lower': 9, 'upper': 2, 'number': 0, 'special': 0}\n",
      "{'lower': 7, 'upper': 3, 'number': 1, 'special': 0}\n",
      "{'lower': 2, 'upper': 1, 'number': 0, 'special': 0}\n",
      "{'lower': 6, 'upper': 3, 'number': 0, 'special': 1}\n",
      "{'lower': 5, 'upper': 2, 'number': 0, 'special': 1}\n",
      "{'lower': 8, 'upper': 4, 'number': 3, 'special': 1}\n",
      "{'lower': 1, 'upper': 3, 'number': 1, 'special': 0}\n",
      "{'lower': 7, 'upper': 0, 'number': 0, 'special': 0}\n",
      "{'lower': 5, 'upper': 0, 'number': 0, 'special': 1}\n",
      "{'lower': 7, 'upper': 6, 'number': 0, 'special': 1}\n",
      "{'lower': 7, 'upper': 5, 'number': 0, 'special': 1}\n",
      "{'lower': 3, 'upper': 0, 'number': 2, 'special': 0}\n",
      "{'lower': 6, 'upper': 2, 'number': 1, 'special': 1}\n",
      "{'lower': 3, 'upper': 0, 'number': 1, 'special': 1}\n",
      "{'lower': 12, 'upper': 1, 'number': 0, 'special': 1}\n",
      "{'lower': 4, 'upper': 1, 'number': 0, 'special': 1}\n",
      "{'lower': 2, 'upper': 3, 'number': 0, 'special': 0}\n",
      "{'lower': 12, 'upper': 2, 'number': 0, 'special': 2}\n",
      "{'lower': 9, 'upper': 3, 'number': 1, 'special': 1}\n",
      "{'lower': 1, 'upper': 1, 'number': 0, 'special': 1}\n",
      "{'lower': 11, 'upper': 3, 'number': 0, 'special': 1}\n",
      "{'lower': 5, 'upper': 1, 'number': 3, 'special': 1}\n",
      "{'lower': 10, 'upper': 2, 'number': 2, 'special': 2}\n",
      "{'lower': 6, 'upper': 0, 'number': 0, 'special': 0}\n",
      "{'lower': 2, 'upper': 0, 'number': 0, 'special': 0}\n"
     ]
    },
    {
     "name": "stderr",
     "output_type": "stream",
     "text": [
      "\n",
      "----------------------------------------------------------------------\n",
      "Ran 100 tests in 0.051s\n",
      "\n",
      "OK\n"
     ]
    }
   ],
   "source": [
    "# This will test your function \n",
    "test_pass(check_pass)"
   ]
  }
 ],
 "metadata": {
  "kernelspec": {
   "display_name": "Python 3",
   "language": "python",
   "name": "python3"
  },
  "language_info": {
   "codemirror_mode": {
    "name": "ipython",
    "version": 3
   },
   "file_extension": ".py",
   "mimetype": "text/x-python",
   "name": "python",
   "nbconvert_exporter": "python",
   "pygments_lexer": "ipython3",
   "version": "3.8.5"
  }
 },
 "nbformat": 4,
 "nbformat_minor": 4
}
